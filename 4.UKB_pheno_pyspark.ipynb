{
 "cells": [
  {
   "cell_type": "markdown",
   "metadata": {},
   "source": []
  },
  {
   "cell_type": "markdown",
   "metadata": {},
   "source": [
    "## Retrieving biobank data using dxdata and plotting results"
   ]
  },
  {
   "cell_type": "code",
   "execution_count": 5,
   "metadata": {},
   "outputs": [],
   "source": [
    "import dxpy\n",
    "import dxdata\n",
    "import pyspark"
   ]
  },
  {
   "cell_type": "code",
   "execution_count": 7,
   "metadata": {},
   "outputs": [
    {
     "data": {
      "text/plain": [
       "'dxdata'"
      ]
     },
     "execution_count": 7,
     "metadata": {},
     "output_type": "execute_result"
    }
   ],
   "source": [
    "dxdata.__package__"
   ]
  },
  {
   "cell_type": "code",
   "execution_count": null,
   "metadata": {},
   "outputs": [],
   "source": [
    "# Spark initialization \n",
    "sc = pyspark.SparkContext() # connection to a Spark cluster\n",
    "spark = pyspark.sql.SparkSession(sc)"
   ]
  },
  {
   "cell_type": "code",
   "execution_count": null,
   "metadata": {},
   "outputs": [],
   "source": [
    "# Automatically discover dispensed database name and dataset id\n",
    "dispensed_database = dxpy.find_one_data_object(\n",
    "    classname='database', \n",
    "    name='app*', \n",
    "    folder='/', \n",
    "    name_mode='glob', \n",
    "    describe=True)\n",
    "dispensed_database_name = dispensed_database['describe']['name']\n",
    "\n",
    "dispensed_dataset = dxpy.find_one_data_object(\n",
    "    typename='Dataset', \n",
    "    name='app*.dataset', \n",
    "    folder='/', \n",
    "    name_mode='glob')\n",
    "dispensed_dataset_id = dispensed_dataset['id']"
   ]
  },
  {
   "cell_type": "markdown",
   "metadata": {},
   "source": [
    "## Phenotype data"
   ]
  },
  {
   "cell_type": "markdown",
   "metadata": {},
   "source": [
    "pheno = dataset['participant']\n",
    "\n",
    "# Find by field name\n",
    "field_eid = pheno.find_field(name='eid') #Participant ID\n",
    "\n",
    "# Find by exact title\n",
    "field_sex = pheno.find_field(title='Sex')\n",
    "field_age = pheno.find_field(title='Age at recruitment')\n",
    "field_own_rent = pheno.find_field(title='Own or rent accommodation lived in | Instance 0')\n",
    "\n",
    "# Find by title pattern\n",
    "pattern = 'Length of time at current address \\| Instance [0-2]'\n",
    "fields_len = list(pheno.find_fields(title_regex=pattern))"
   ]
  },
  {
   "cell_type": "markdown",
   "metadata": {},
   "source": [
    "# Extract phenotype data for selected fields"
   ]
  },
  {
   "cell_type": "markdown",
   "metadata": {},
   "source": [
    "# Final list of fields\n",
    "field_list = [field_eid, field_sex, field_own_rent, field_age] + fields_len\n",
    "\n",
    "# Extract data and construct a Spark DataFrame of the given fields\n",
    "pheno_data = pheno.retrieve_fields(fields=field_list, engine=dxdata.connect()).to_koalas()\n",
    "\n",
    "# See first five entries\n",
    "pheno_data.head()"
   ]
  },
  {
   "cell_type": "markdown",
   "metadata": {},
   "source": [
    "Let's list column name and title"
   ]
  },
  {
   "cell_type": "code",
   "execution_count": null,
   "metadata": {},
   "outputs": [],
   "source": [
    "pd.DataFrame(\n",
    "    {\n",
    "        'Name': [f.name for f in field_list],\n",
    "        'Title': [f.title for f in field_list]\n",
    "    }\n",
    ")"
   ]
  },
  {
   "cell_type": "markdown",
   "metadata": {},
   "source": [
    "## Summarize data"
   ]
  },
  {
   "cell_type": "code",
   "execution_count": null,
   "metadata": {},
   "outputs": [],
   "source": [
    "pheno_data.describe()"
   ]
  },
  {
   "cell_type": "markdown",
   "metadata": {},
   "source": [
    "## Get averages and group counts by sex\n"
   ]
  },
  {
   "cell_type": "code",
   "execution_count": null,
   "metadata": {},
   "outputs": [],
   "source": [
    "# Show average of numeric columns (age, own or rent accommodation lived in, length of time at current address) by sex\n",
    "pheno_data.groupby('p31').mean()"
   ]
  },
  {
   "cell_type": "markdown",
   "metadata": {},
   "source": []
  },
  {
   "cell_type": "markdown",
   "metadata": {},
   "source": [
    "## Visually display correlation"
   ]
  },
  {
   "cell_type": "markdown",
   "metadata": {},
   "source": [
    "len_address_inst0 = pheno_data.p699_i0.to_numpy()\n",
    "len_address_inst1 = pheno_data.p699_i1.to_numpy()\n",
    "age = pheno_data.p21022.to_numpy()"
   ]
  },
  {
   "cell_type": "code",
   "execution_count": null,
   "metadata": {},
   "outputs": [],
   "source": [
    "# Plot length of time at current address instance 1 against instance 2\n",
    "ax = sns.jointplot(x=len_address_inst0, y=len_address_inst1, kind='scatter', space=0, color='black', alpha=0.1, s=4)\n",
    "ax.set_axis_labels(fields_len[0].title, fields_len[1].title, fontsize=16)"
   ]
  },
  {
   "cell_type": "code",
   "execution_count": null,
   "metadata": {},
   "outputs": [],
   "source": [
    "# Plot age against length of time at current address\n",
    "ax = sns.jointplot(x=age, y=len_address_inst0, kind='kde')\n",
    "ax.set_axis_labels(field_age.title, fields_len[0].title, fontsize=16)"
   ]
  }
 ],
 "metadata": {
  "interpreter": {
   "hash": "8d3d182e0775727da80841d9b093241b6d06872de0c24c27a3e58729dadb5b25"
  },
  "kernelspec": {
   "display_name": "Python 3.8.0 ('dnexus')",
   "language": "python",
   "name": "python3"
  },
  "language_info": {
   "codemirror_mode": {
    "name": "ipython",
    "version": 3
   },
   "file_extension": ".py",
   "mimetype": "text/x-python",
   "name": "python",
   "nbconvert_exporter": "python",
   "pygments_lexer": "ipython3",
   "version": "3.8.0"
  },
  "orig_nbformat": 4
 },
 "nbformat": 4,
 "nbformat_minor": 2
}
