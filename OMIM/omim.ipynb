{
 "cells": [
  {
   "cell_type": "code",
   "execution_count": 4,
   "metadata": {},
   "outputs": [],
   "source": [
    "import omim\n",
    "from omim import util\n",
    "from omim.db import Manager, OMIM_DATA\n"
   ]
  },
  {
   "cell_type": "code",
   "execution_count": 8,
   "metadata": {},
   "outputs": [
    {
     "name": "stderr",
     "output_type": "stream",
     "text": [
      "[2022-06-02 16:51:55 Manager __exit__ DEBUG MainThread:33] database closed.\n"
     ]
    },
    {
     "name": "stdout",
     "output_type": "stream",
     "text": [
      "+------------------+-----------------------+--------------+\n",
      "| Key              | Comment               | Type         |\n",
      "+------------------+-----------------------+--------------+\n",
      "| mim_number       | MIM Number            | VARCHAR(10)  |\n",
      "| prefix           | The prefix symbol     | VARCHAR(1)   |\n",
      "| title            | The title             | VARCHAR(50)  |\n",
      "| references       | The references        | VARCHAR(300) |\n",
      "| geneMap          | The geneMap data      | VARCHAR(300) |\n",
      "| phenotypeMap     | The phenotypeMap data | VARCHAR(300) |\n",
      "| mim_type         | The mim_type          | VARCHAR(20)  |\n",
      "| entrez_gene_id   | The entrez_gene_id    | VARCHAR(20)  |\n",
      "| ensembl_gene_id  | The ensembl_gene_id   | VARCHAR(20)  |\n",
      "| hgnc_gene_symbol | The hgnc_gene_symbol  | VARCHAR(20)  |\n",
      "| generated        | The generated time    | DATETIME     |\n",
      "+------------------+-----------------------+--------------+\n",
      "2021-04-20\n",
      "+--------------------------+-------+\n",
      "| MIM_TYPE                 | COUNT |\n",
      "+--------------------------+-------+\n",
      "| gene                     | 16458 |\n",
      "| gene/phenotype           | 27    |\n",
      "| phenotype                | 7578  |\n",
      "| predominantly phenotypes | 1762  |\n",
      "| moved/removed            | 1317  |\n",
      "| TOTAL COUNT              | 27142 |\n",
      "+--------------------------+-------+\n"
     ]
    }
   ],
   "source": [
    "manager = Manager(dbfile=omim.DEFAULT_DB)\n",
    "\n",
    "# show columns\n",
    "print(util.get_columns_table())\n",
    "\n",
    "\n",
    "# show stats\n",
    "generated, table = util.get_stats_table(manager)\n",
    "print(generated)\n",
    "print(table)\n",
    "\n"
   ]
  },
  {
   "cell_type": "code",
   "execution_count": 9,
   "metadata": {},
   "outputs": [
    {
     "data": {
      "text/plain": [
       "27142"
      ]
     },
     "execution_count": 9,
     "metadata": {},
     "output_type": "execute_result"
    }
   ],
   "source": [
    "# count the database\n",
    "manager.query(OMIM_DATA).count()\n",
    "\n"
   ]
  },
  {
   "cell_type": "code",
   "execution_count": 11,
   "metadata": {},
   "outputs": [
    {
     "name": "stdout",
     "output_type": "stream",
     "text": [
      "100640 ALDEHYDE DEHYDROGENASE 1 FAMILY, MEMBER A1; ALDH1A1\n",
      "{'prefix': '*', 'references': '3943866, 6723659, 2591967, 2987944, 3013004, 224930, 26430123, 6127541, 2729894, 17529981', 'phenotypeMap': None, 'entrez_gene_id': '216', 'hgnc_gene_symbol': 'ALDH1A1', 'geneMap': None, 'title': 'ALDEHYDE DEHYDROGENASE 1 FAMILY, MEMBER A1; ALDH1A1', 'mim_number': '100640', 'mim_type': 'gene', 'ensembl_gene_id': 'ENSG00000165092', 'generated': datetime.datetime(2021, 4, 14, 0, 0)}\n",
      "16458\n"
     ]
    }
   ],
   "source": [
    "# query with key-value\n",
    "res = manager.query(OMIM_DATA, 'prefix', '*')\n",
    "\n",
    "\n",
    "# fetch query result\n",
    "item = res.first()\n",
    "items = res.all()\n",
    "\n",
    "# content of result\n",
    "print(item.mim_number, item.title)\n",
    "print(item.as_dict)\n",
    "print(len(items))"
   ]
  },
  {
   "cell_type": "code",
   "execution_count": null,
   "metadata": {},
   "outputs": [],
   "source": [
    "#Additional queries\n",
    "res = manager.query(OMIM_DATA, 'mim_number', '600799')\n",
    "res = manager.query(OMIM_DATA, 'hgnc_gene_symbol', 'BMPR2')\n",
    "res = manager.query(OMIM_DATA, 'geneMap', '%Pulmonary hypertension%')  # fuzzy query"
   ]
  },
  {
   "cell_type": "code",
   "execution_count": 12,
   "metadata": {},
   "outputs": [],
   "source": [
    "import requests\n",
    "from bs4 import BeautifulSoup\n",
    "import time"
   ]
  },
  {
   "cell_type": "code",
   "execution_count": 15,
   "metadata": {},
   "outputs": [],
   "source": [
    "url = 'https://www.omim.org/search/?index=geneMap&start=1&search=ALZHEIMER&limit=100&format=tsv'\n",
    "s = requests.Session()\n",
    "headers = {'User-Agent': 'Mozilla/5.0 (X11; Linux x86_64; rv:45.0) Gecko/20100101 Firefox/45.0'} \n",
    "\n",
    "r = s.get(url, headers=headers)\n",
    "if r.status_code == 200:\n",
    "    with open('alzheimer_search_result.txt', 'w') as f:\n",
    "        f.write(r.text)\n",
    "else:\n",
    "    print('error!!!')\n",
    "    \n",
    "\n"
   ]
  },
  {
   "cell_type": "code",
   "execution_count": 19,
   "metadata": {},
   "outputs": [
    {
     "name": "stdout",
     "output_type": "stream",
     "text": [
      "combine the search result...\n",
      "AD7CNTP : 607413\n",
      "AD13 : 611152\n",
      "AD14 : 611154\n",
      "PSEN2 : 600759\n",
      "AD15 : 611155\n",
      "HFE : 613609\n",
      "AD17 : 615080\n",
      "NOS3 : 163729\n",
      "AD10 : 609636\n",
      "AD12 : 611073\n",
      "AD11 : 609790\n",
      "AD7 : 606187\n",
      "PLAU : 191840\n",
      "AD6 : 605526\n",
      "CALHM1 : 612234\n",
      "AD5 : 602096\n",
      "PSEN1 : 104311\n",
      "ADAM10 : 602192\n",
      "MPO : 606989\n",
      "ABCA7 : 605414\n",
      "APOE : 107741\n",
      "AD8 : 607116\n",
      "APP : 104760\n",
      "AD16 : 300756\n"
     ]
    }
   ],
   "source": [
    "print('combine the search result...')\n",
    "\n",
    "search_result = open('alzheimer_search_result.txt', 'r').readlines()\n",
    "\n",
    "# we want to put the gene and mim_number into a dict\n",
    "gene2mim_number = {}\n",
    "\n",
    "for line in search_result:\n",
    "    line = line.strip()\n",
    "    if  not line.startswith('Downloaded') and not line.startswith('Cytogenetic'):\n",
    "        if '\\t' in line:\n",
    "            line = line.split('\\t')\n",
    "            gene = line[2]\n",
    "            if ',' in gene:\n",
    "                gene = gene.split(',')[0]\n",
    "            mim_number = line[4]\n",
    "            \n",
    "            if gene not in gene2mim_number.keys():\n",
    "                gene2mim_number[gene] = mim_number\n",
    "            else:\n",
    "                pass\n",
    "\n",
    "for gene in gene2mim_number.keys():\n",
    "    print(gene + ' : ' + gene2mim_number[gene])\n",
    "\n"
   ]
  },
  {
   "cell_type": "code",
   "execution_count": 21,
   "metadata": {},
   "outputs": [
    {
     "data": {
      "text/plain": [
       "dict_keys(['AD7CNTP', 'AD13', 'AD14', 'PSEN2', 'AD15', 'HFE', 'AD17', 'NOS3', 'AD10', 'AD12', 'AD11', 'AD7', 'PLAU', 'AD6', 'CALHM1', 'AD5', 'PSEN1', 'ADAM10', 'MPO', 'ABCA7', 'APOE', 'AD8', 'APP', 'AD16'])"
      ]
     },
     "execution_count": 21,
     "metadata": {},
     "output_type": "execute_result"
    }
   ],
   "source": [
    "gene2mim_number.keys()"
   ]
  }
 ],
 "metadata": {
  "interpreter": {
   "hash": "71e4352397c71449c26723d9a970a7b6a1ed62dd21058cf44e23c374c3858000"
  },
  "kernelspec": {
   "display_name": "Python 3.8.13 ('tesseract')",
   "language": "python",
   "name": "python3"
  },
  "language_info": {
   "codemirror_mode": {
    "name": "ipython",
    "version": 3
   },
   "file_extension": ".py",
   "mimetype": "text/x-python",
   "name": "python",
   "nbconvert_exporter": "python",
   "pygments_lexer": "ipython3",
   "version": "3.8.13"
  },
  "orig_nbformat": 4
 },
 "nbformat": 4,
 "nbformat_minor": 2
}
